{
 "cells": [
  {
   "cell_type": "code",
   "execution_count": 1,
   "metadata": {},
   "outputs": [
    {
     "name": "stderr",
     "output_type": "stream",
     "text": [
      "/anaconda3/lib/python3.6/site-packages/odo/backends/pandas.py:102: FutureWarning: pandas.tslib is deprecated and will be removed in a future version.\n",
      "You can access NaTType as type(pandas.NaT)\n",
      "  @convert.register((pd.Timestamp, pd.Timedelta), (pd.tslib.NaTType, type(None)))\n"
     ]
    }
   ],
   "source": [
    "import geocoder\n",
    "import unicodecsv\n",
    "import logging\n",
    "import time\n",
    "import csv\n",
    "from pygeocoder import Geocoder\n",
    "from uszipcode import ZipcodeSearchEngine\n",
    "import pandas as pd\n",
    "import blaze\n",
    "import time\n",
    "import os"
   ]
  },
  {
   "cell_type": "code",
   "execution_count": 2,
   "metadata": {},
   "outputs": [
    {
     "name": "stderr",
     "output_type": "stream",
     "text": [
      "/anaconda3/lib/python3.6/site-packages/IPython/core/interactiveshell.py:2785: DtypeWarning: Columns (45,46,47,48,66,70) have mixed types. Specify dtype option on import or set low_memory=False.\n",
      "  interactivity=interactivity, compiler=compiler, result=result)\n"
     ]
    }
   ],
   "source": [
    "# parse_dates = true to read dates automatically\n",
    "divvyTrips =pd.read_csv('Social_Economic_Info_By_Zipcode/MergedData/Divvy_2016_merged.csv',parse_dates=True)\n"
   ]
  },
  {
   "cell_type": "code",
   "execution_count": 3,
   "metadata": {
    "collapsed": true
   },
   "outputs": [],
   "source": [
    "divvyTrips.stoptime=pd.to_datetime(divvyTrips.stoptime)\n",
    "divvyTrips.starttime=pd.to_datetime(divvyTrips.starttime)\n",
    "divvyTrips['Year'] = divvyTrips['starttime'].apply(lambda d: d.year)\n",
    "divvyTrips['Month'] = divvyTrips['starttime'].apply(lambda d: d.month)\n",
    "divvyTrips['Day'] = divvyTrips['starttime'].apply(lambda d: d.day)\n",
    "divvyTrips['DayOfWeek'] = divvyTrips['starttime'].apply(lambda d: d.dayofweek)\n",
    "divvyTrips['DayName'] = divvyTrips['starttime'].apply(lambda d: d.weekday_name)\n",
    "divvyTrips['DayOfYear'] = divvyTrips['starttime'].apply(lambda d: d.dayofyear)\n",
    "divvyTrips['WeekOfYear'] = divvyTrips['starttime'].apply(lambda d: d.weekofyear)\n",
    "divvyTrips['Quarter'] = divvyTrips['starttime'].apply(lambda d: d.quarter)"
   ]
  },
  {
   "cell_type": "code",
   "execution_count": 4,
   "metadata": {
    "collapsed": true
   },
   "outputs": [],
   "source": [
    "\n",
    "#Remove all rows with missing values. axis =0 is the default \n",
    "divvyTrips = divvyTrips.dropna(subset=['trip_id'], how=\"all\", axis=0)\n",
    "\n",
    "import calendar\n",
    "divvyTrips['month_name'] = divvyTrips['Month'].apply(lambda x: calendar.month_abbr[x])\n",
    "divvyTrips['months-year']=divvyTrips['starttime'].apply(lambda x: x.strftime('%B-%Y'))\n",
    "\n",
    "#months = {1: 'Jan', 2: 'Feb', 3: 'Mar',4: 'Apr',5:'May',6: 'Jun',7:'Jul',8:'Aug',9:'Sep',10:'Oct',11:'Nov',12: 'Dec'}\n",
    "#divvyTrips['month_name'] = divvyTrips['Month'].map(months)\n",
    "#divvyTrips['months-year'] = divvyTrips.reset_index().apply(lambda x: '{}-{}'.format(x['month_name'],x['Year']),axis=1)\n",
    "\n",
    "#divvy_dataset['month-year'] = divvy_dataset.reset_index().apply(lambda x: '{}-{}'.format(x['months'],x['year']),axis=1)\n",
    "\n",
    "#Convert Trip to minutes\n",
    "divvyTrips['tripInMinutes'] = divvyTrips['tripduration'] / 60\n",
    "\n",
    "#Add the Hour column\n",
    "divvyTrips.starttime = pd.to_datetime(divvyTrips.starttime)\n",
    "divvyTrips['Hour'] = divvyTrips.starttime.apply(lambda x: x.hour)\n",
    "\n",
    "## If trip start time is greater than stop time, swap them\n",
    "divvyTrips.loc[divvyTrips.starttime > divvyTrips.stoptime,['starttime','stoptime']] = divvyTrips.loc[divvyTrips.starttime > divvyTrips.stoptime,['stoptime','starttime']].values\n",
    "\n",
    "#Remove Dependent user type\n",
    "divvyTrips = divvyTrips[divvyTrips.usertype != 'Dependent']"
   ]
  },
  {
   "cell_type": "code",
   "execution_count": null,
   "metadata": {
    "collapsed": true
   },
   "outputs": [],
   "source": [
    "## Group Station capacity into buckets"
   ]
  },
  {
   "cell_type": "code",
   "execution_count": null,
   "metadata": {
    "collapsed": true
   },
   "outputs": [],
   "source": [
    "#Convert an existing Series or column to a category dtype:\n",
    "divvyTrips['gender'].astype('category')\n",
    "\n",
    "int(divvyTrips.dpcapacity_start.max())\n",
    "##### 55\n",
    "\n",
    "labels = [\"{0} - {1}\".format(i, i + 9) for i in range(int(divvyTrips.dpcapacity_start.min()), int(divvyTrips.dpcapacity_start.max())*2, 10)]\n",
    "\n",
    "#divvy_dataset['group'] = pd.cut(divvy_dataset.dpcapacity_start, range(int(divvy_dataset.dpcapacity_start.min()), int(divvy_dataset.dpcapacity_start.max()), 10), right=False, labels=labels)\n",
    "divvyTrips['start_station_group'] = pd.cut(divvyTrips.dpcapacity_start, range(0, 120, 10), right=False, labels=labels)\n",
    "divvyTrips.head()\n",
    "\n",
    "divvyTrips['end_station_group'] = pd.cut(divvyTrips.dpcapacity_end, range(0, 120, 10), right=False, labels=labels)\n",
    "divvyTrips.head()\n",
    "\n",
    "stations_trips = divvyTrips.groupby('start_station_group')['trip_id','gender'].agg(len).dropna()\n",
    "\n",
    "stations_trips.plot(kind='bar');"
   ]
  },
  {
   "cell_type": "code",
   "execution_count": null,
   "metadata": {
    "collapsed": true
   },
   "outputs": [],
   "source": [
    "## Add Holiday, weekday"
   ]
  },
  {
   "cell_type": "code",
   "execution_count": 5,
   "metadata": {},
   "outputs": [
    {
     "name": "stderr",
     "output_type": "stream",
     "text": [
      "/anaconda3/lib/python3.6/site-packages/pandas/core/internals.py:3224: FutureWarning: Passing in 'datetime64' dtype with no frequency is deprecated and will raise in a future version. Please pass in 'datetime64[ns]' instead.\n",
      "  return self.apply('astype', dtype=dtype, **kwargs)\n"
     ]
    }
   ],
   "source": [
    "from pandas.tseries.holiday import USFederalHolidayCalendar as calendar\n",
    "\n",
    "cal = calendar()\n",
    "holidays = cal.holidays(start=divvyTrips['starttime'].min(), end=divvyTrips['starttime'].max())\n",
    "divvyTrips['TypeOfDay'] = divvyTrips['starttime'].dt.date.astype('datetime64').isin(holidays)\n",
    "divvyTrips.loc[(divvyTrips.DayOfWeek == 5) | (divvyTrips.DayOfWeek == 6) | (divvyTrips.TypeOfDay == True),'TypeOfDay'] = 'Holiday'\n",
    "divvyTrips.loc[(divvyTrips.TypeOfDay == False),'TypeOfDay'] = 'Weekday'"
   ]
  },
  {
   "cell_type": "code",
   "execution_count": null,
   "metadata": {
    "collapsed": true
   },
   "outputs": [],
   "source": [
    "## Add Seasons to the dataframe"
   ]
  },
  {
   "cell_type": "code",
   "execution_count": 6,
   "metadata": {
    "collapsed": true
   },
   "outputs": [],
   "source": [
    "seasons = ['Winter', 'Winter', 'Winter', 'Spring', 'Spring', 'Summer', 'Summer', 'Summer', 'Autumn', 'Autumn', 'Autumn', 'Winter']\n",
    "month_to_season = dict(zip(range(1,13), seasons))\n",
    "divvyTrips['season']=divvyTrips.starttime.dt.month.map(month_to_season) \n"
   ]
  },
  {
   "cell_type": "code",
   "execution_count": 7,
   "metadata": {
    "collapsed": true
   },
   "outputs": [],
   "source": [
    "# Drop Duplicates\n",
    "divvyTrips = divvyTrips.drop_duplicates()"
   ]
  },
  {
   "cell_type": "code",
   "execution_count": 8,
   "metadata": {
    "collapsed": true
   },
   "outputs": [],
   "source": [
    "divvyTrips.to_csv('Social_Economic_Info_By_Zipcode/MergedData/Divvy_2016_merged.csv')"
   ]
  }
 ],
 "metadata": {
  "kernelspec": {
   "display_name": "Python 3",
   "language": "python",
   "name": "python3"
  },
  "language_info": {
   "codemirror_mode": {
    "name": "ipython",
    "version": 3
   },
   "file_extension": ".py",
   "mimetype": "text/x-python",
   "name": "python",
   "nbconvert_exporter": "python",
   "pygments_lexer": "ipython3",
   "version": "3.6.3"
  }
 },
 "nbformat": 4,
 "nbformat_minor": 2
}
