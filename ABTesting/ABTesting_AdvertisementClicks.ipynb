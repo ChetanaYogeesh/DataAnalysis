{
 "cells": [
  {
   "cell_type": "code",
   "execution_count": 18,
   "metadata": {},
   "outputs": [],
   "source": [
    "import pandas as pd\n",
    "import numpy as np\n",
    "import scipy.stats as stats\n",
    "import matplotlib.pyplot as plt\n"
   ]
  },
  {
   "cell_type": "code",
   "execution_count": 17,
   "metadata": {},
   "outputs": [],
   "source": [
    "import pandas as pd\n",
    "import numpy as np\n",
    "import scipy.stats as stats\n",
    "import matplotlib.pyplot as plt\n",
    "\n",
    "# Step 1: Load the Dataset\n",
    "# Load the dataset from the provided file path\n",
    "file_path = 'advertisement_clicks.csv'\n",
    "df = pd.read_csv(file_path)\n"
   ]
  },
  {
   "cell_type": "code",
   "execution_count": 16,
   "metadata": {},
   "outputs": [
    {
     "name": "stdout",
     "output_type": "stream",
     "text": [
      "  advertisement_id  action  group\n",
      "0                B       1      1\n",
      "1                B       1      1\n",
      "2                A       0      0\n",
      "3                B       0      1\n",
      "4                A       1      0\n",
      "<class 'pandas.core.frame.DataFrame'>\n",
      "RangeIndex: 2000 entries, 0 to 1999\n",
      "Data columns (total 3 columns):\n",
      " #   Column            Non-Null Count  Dtype \n",
      "---  ------            --------------  ----- \n",
      " 0   advertisement_id  2000 non-null   object\n",
      " 1   action            2000 non-null   int64 \n",
      " 2   group             2000 non-null   int64 \n",
      "dtypes: int64(2), object(1)\n",
      "memory usage: 47.0+ KB\n",
      "None\n",
      "advertisement_id    0\n",
      "action              0\n",
      "group               0\n",
      "dtype: int64\n"
     ]
    }
   ],
   "source": [
    "# Step 2: Data Exploration\n",
    "# Display the first few rows of the dataset to understand its structure\n",
    "print(df.head())\n",
    "\n",
    "# Display basic information about the dataset\n",
    "print(df.info())\n",
    "\n",
    "# Check for missing values\n",
    "print(df.isnull().sum())"
   ]
  },
  {
   "cell_type": "code",
   "execution_count": 15,
   "metadata": {},
   "outputs": [],
   "source": [
    "# Step 3: Data Preprocessing\n",
    "# Assume the dataset has columns like 'group' (A or B) and 'clicked' (0 or 1)\n",
    "# If necessary, encode the group variable (if it's not already in A/B format)\n",
    "df['group'] = df['advertisement_id'].map({'A': 0, 'B': 1})"
   ]
  },
  {
   "cell_type": "code",
   "execution_count": 14,
   "metadata": {},
   "outputs": [],
   "source": [
    "# Step 4: Hypothesis Definition\n",
    "# Null Hypothesis (H0): There is no difference in the click-through rate between groups A and B.\n",
    "# Alternative Hypothesis (H1): There is a difference in the click-through rate between groups A and B.\n"
   ]
  },
  {
   "cell_type": "code",
   "execution_count": 13,
   "metadata": {},
   "outputs": [
    {
     "name": "stdout",
     "output_type": "stream",
     "text": [
      "group\n",
      "0    0.304\n",
      "1    0.372\n",
      "Name: action, dtype: float64\n",
      "group\n",
      "0    1000\n",
      "1    1000\n",
      "dtype: int64\n"
     ]
    }
   ],
   "source": [
    "# Step 5: Group Comparison\n",
    "# Calculate the mean click-through rate for each group\n",
    "grouped = df.groupby('group')['action'].mean()\n",
    "print(grouped)\n",
    "\n",
    "# Calculate the number of users in each group\n",
    "group_sizes = df.groupby('group').size()\n",
    "print(group_sizes)"
   ]
  },
  {
   "cell_type": "code",
   "execution_count": 12,
   "metadata": {},
   "outputs": [
    {
     "name": "stdout",
     "output_type": "stream",
     "text": [
      "T-statistic: -3.221173213801978\n",
      "P-value: 0.001297190546712528\n"
     ]
    }
   ],
   "source": [
    "# Step 6: Statistical Testing\n",
    "# Perform an independent t-test to compare the means of the two groups\n",
    "group_a = df[df['group'] == 0]['action']\n",
    "group_b = df[df['group'] == 1]['action']\n",
    "\n",
    "t_stat, p_value = stats.ttest_ind(group_a, group_b)\n",
    "print(f\"T-statistic: {t_stat}\")\n",
    "print(f\"P-value: {p_value}\")\n",
    "\n",
    "\n"
   ]
  },
  {
   "cell_type": "code",
   "execution_count": 11,
   "metadata": {},
   "outputs": [
    {
     "name": "stdout",
     "output_type": "stream",
     "text": [
      "Reject the null hypothesis. There is a statistically significant difference between the two groups.\n"
     ]
    }
   ],
   "source": [
    "# Step 7: Results Interpretation\n",
    "alpha = 0.05  # significance level\n",
    "\n",
    "if p_value < alpha:\n",
    "    print(\"Reject the null hypothesis. There is a statistically significant difference between the two groups.\")\n",
    "else:\n",
    "    print(\"Fail to reject the null hypothesis. There is no statistically significant difference between the two groups.\")\n",
    "\n"
   ]
  },
  {
   "cell_type": "code",
   "execution_count": 9,
   "metadata": {},
   "outputs": [
    {
     "data": {
      "image/png": "[encoded data removed]",
      "text/plain": [
       "<Figure size 800x500 with 1 Axes>"
      ]
     },
     "metadata": {},
     "output_type": "display_data"
    }
   ],
   "source": [
    "# Optional: Visualization\n",
    "# Plot the click-through rate for each group\n",
    "plt.figure(figsize=(8, 5))\n",
    "grouped.plot(kind='bar', color=['blue', 'orange'])\n",
    "plt.title('Click-Through Rate by Group')\n",
    "plt.xlabel('Group')\n",
    "plt.ylabel('Click-Through Rate')\n",
    "plt.xticks([0, 1], ['Group A', 'Group B'], rotation=0)\n",
    "plt.show()"
   ]
  },
  {
   "cell_type": "markdown",
   "metadata": {},
   "source": [
    "Let's break down the results in detail:\n",
    "\n",
    "### T-Statistic: -3.221173213801978\n",
    "\n",
    "1. **What is the T-Statistic?**\n",
    "   - The t-statistic is a value derived from a t-test, which measures the difference between the means of two groups relative to the variation in their data. Essentially, it tells us how far the observed data is from the null hypothesis (which assumes no difference between the groups) in units of standard error.\n",
    "   - A more negative or positive t-statistic suggests a greater difference between the two groups.\n",
    "\n",
    "2. **Interpretation of the T-Statistic:**\n",
    "   - The t-statistic of `-3.22` indicates that the mean difference between the groups is about 3.22 standard errors away from zero (the null hypothesis of no difference).\n",
    "   - The negative sign indicates that group A (or the first group in your test) has a lower mean than group B. However, the direction (positive or negative) is less important than the magnitude when testing for significance.\n",
    "\n",
    "### P-Value: 0.001297190546712528\n",
    "\n",
    "1. **What is the P-Value?**\n",
    "   - The p-value measures the probability of observing a result at least as extreme as the one obtained, assuming that the null hypothesis is true.\n",
    "   - A low p-value indicates that the observed data is unlikely under the null hypothesis, suggesting that the null hypothesis may not be true.\n",
    "\n",
    "2. **Interpretation of the P-Value:**\n",
    "   - The p-value here is approximately `0.0013`.\n",
    "   - This means that there is only a 0.13% chance of observing a difference as extreme as the one observed (or more extreme) if there were actually no difference between the two groups.\n",
    "   - In most scientific tests, a p-value below 0.05 is considered statistically significant.\n",
    "\n",
    "### Rejecting the Null Hypothesis\n",
    "\n",
    "1. **Significance Level (α):**\n",
    "   - Typically, we compare the p-value to a significance level (α), often set at 0.05.\n",
    "   - If the p-value is less than α, we reject the null hypothesis.\n",
    "\n",
    "2. **Conclusion:**\n",
    "   - In this case, the p-value of `0.0013` is much smaller than the common α level of `0.05`.\n",
    "   - Therefore, we reject the null hypothesis.\n",
    "   - This means there is strong evidence to suggest a statistically significant difference between the two groups, A and B.\n",
    "\n",
    "3. **Practical Implications:**\n",
    "   - The conclusion that there is a significant difference implies that the advertisement versions (A and B) are likely affecting user behavior differently. \n",
    "   - If, for example, group B had a higher click-through rate, you might conclude that the version B ad is more effective and could be used more broadly.\n",
    "\n",
    "### Summary\n",
    "- **T-Statistic**: The value `-3.22` indicates that the observed difference is significant and deviates from the null hypothesis by about 3.22 standard errors.\n",
    "- **P-Value**: The value `0.0013` is very small, indicating a very low probability that the observed difference happened by chance under the null hypothesis.\n",
    "- **Conclusion**: Since the p-value is below the significance threshold (0.05), we reject the null hypothesis, concluding that there is a statistically significant difference between the two groups. This suggests that the two advertisement versions likely lead to different user behaviors (e.g., different click-through rates)."
   ]
  }
 ],
 "metadata": {
  "kernelspec": {
   "display_name": ".venv",
   "language": "python",
   "name": "python3"
  },
  "language_info": {
   "codemirror_mode": {
    "name": "ipython",
    "version": 3
   },
   "file_extension": ".py",
   "mimetype": "text/x-python",
   "name": "python",
   "nbconvert_exporter": "python",
   "pygments_lexer": "ipython3",
   "version": "3.12.4"
  }
 },
 "nbformat": 4,
 "nbformat_minor": 2
}
